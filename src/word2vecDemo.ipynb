{
 "cells": [
  {
   "cell_type": "code",
   "execution_count": 1,
   "metadata": {},
   "outputs": [],
   "source": [
    "import pandas as pd "
   ]
  },
  {
   "cell_type": "code",
   "execution_count": 14,
   "metadata": {},
   "outputs": [
    {
     "data": {
      "text/plain": [
       "(810, 2)"
      ]
     },
     "execution_count": 14,
     "metadata": {},
     "output_type": "execute_result"
    }
   ],
   "source": [
    "train = pd.read_csv(\"/Users/matthewxfz/Workspaces/gits/YelpReivewSentimentAnalysis/data/yelp810.csv\", header=0, \\\n",
    "                    delimiter=\",\", quoting=3)\n",
    "train.shape"
   ]
  },
  {
   "cell_type": "code",
   "execution_count": 15,
   "metadata": {},
   "outputs": [
    {
     "data": {
      "text/plain": [
       "array(['label', 'text'], dtype=object)"
      ]
     },
     "execution_count": 15,
     "metadata": {},
     "output_type": "execute_result"
    }
   ],
   "source": [
    "train.columns.values"
   ]
  },
  {
   "cell_type": "code",
   "execution_count": 23,
   "metadata": {},
   "outputs": [
    {
     "name": "stdout",
     "output_type": "stream",
     "text": [
      "\"My parents taught me \\\"when you don't have something nice to say then don't say anything at all.\\\"\\n\\nYelp has taught me \\\"when you don't have something nice to say tell it like it is.\\\"\\n\\nSorry mom and dad Yelp FTW!\\n\\nI like my restaurants how I like my style un-cramped; unfortunately this place is packed full with wall to wall tables and chairs leaving about 3 inches in between you and the guy at the table next to you. Don't plan to come here during the lunch rush with a big group you're lucky if you can fit one or two people through the door. The parking isn't that appealing either you are practically parked in the middle of 16th street traffic. :-\\/\\n\\nLa Condesa makes a pretty good taco and their salsa ain't bad either. To their benefit they do have some fairly unique salsa's to choose from such as strawberry peanut and pecan; but in my opinion unique doesn't necessarily = awesome. Any of their tacos will do you right but my favorite is their pork.  \\n\\nIn my opinion and lets face it if you're reading my review that's exactly what you're looking for right? La Condesa over stated when they went with Gourmet in the name. Sure everybody likes their taco's but who wants to pay $9 for two tacos and leave feeling like they were packed in like sardines in the middle of a seedy neighborhood? If it isn't obvious yet I don't plan on coming back soon I can take or leave their salsas and tacos and wouldn't be bothered either way.\\n\\nHappy Yelping Phoenix hope you find that hidden taco gem you've always been searching for.\"\n"
     ]
    }
   ],
   "source": [
    "print train[\"text\"][0]\n",
    "reviews = train[\"text\"]"
   ]
  },
  {
   "cell_type": "code",
   "execution_count": 41,
   "metadata": {},
   "outputs": [],
   "source": [
    "# Import BeautifulSoup into your workspace\n",
    "from bs4 import BeautifulSoup"
   ]
  },
  {
   "cell_type": "code",
   "execution_count": 44,
   "metadata": {},
   "outputs": [],
   "source": [
    "# Initialize the BeautifulSoup object on a single movie review     \n",
    "example1 = BeautifulSoup(train[\"text\"][0]) \n",
    "# Print the raw review and then the output of get_text(), for \n",
    "# comparison\n",
    "#print train[\"text\"][0]\n",
    "#print example1.get_text()"
   ]
  },
  {
   "cell_type": "markdown",
   "metadata": {},
   "source": [
    "Data Cleaning and Text Preposessing"
   ]
  },
  {
   "cell_type": "code",
   "execution_count": 10,
   "metadata": {},
   "outputs": [],
   "source": [
    "import re"
   ]
  },
  {
   "cell_type": "code",
   "execution_count": 45,
   "metadata": {},
   "outputs": [
    {
     "name": "stdout",
     "output_type": "stream",
     "text": [
      " My parents taught me   when you don t have something nice to say then don t say anything at all    n nYelp has taught me   when you don t have something nice to say tell it like it is    n nSorry mom and dad Yelp FTW  n nI like my restaurants how I like my style un cramped  unfortunately this place is packed full with wall to wall tables and chairs leaving about   inches in between you and the guy at the table next to you  Don t plan to come here during the lunch rush with a big group you re lucky if you can fit one or two people through the door  The parking isn t that appealing either you are practically parked in the middle of   th street traffic       n nLa Condesa makes a pretty good taco and their salsa ain t bad either  To their benefit they do have some fairly unique salsa s to choose from such as strawberry peanut and pecan  but in my opinion unique doesn t necessarily   awesome  Any of their tacos will do you right but my favorite is their pork    n nIn my opinion and lets face it if you re reading my review that s exactly what you re looking for right  La Condesa over stated when they went with Gourmet in the name  Sure everybody likes their taco s but who wants to pay    for two tacos and leave feeling like they were packed in like sardines in the middle of a seedy neighborhood  If it isn t obvious yet I don t plan on coming back soon I can take or leave their salsas and tacos and wouldn t be bothered either way  n nHappy Yelping Phoenix hope you find that hidden taco gem you ve always been searching for  \n"
     ]
    }
   ],
   "source": [
    "letters_only = re.sub(\"[^a-zA-Z]\",           # The pattern to search for\n",
    "                      \" \",                   # The pattern to replace it with\n",
    "                      train[\"text\"][0])  # The text to search\n",
    "print letters_only"
   ]
  },
  {
   "cell_type": "code",
   "execution_count": 48,
   "metadata": {},
   "outputs": [],
   "source": [
    "lower_case = letters_only.lower()        # Convert to lower case\n",
    "words = lower_case.split()               # Split into words"
   ]
  },
  {
   "cell_type": "code",
   "execution_count": 49,
   "metadata": {},
   "outputs": [
    {
     "data": {
      "text/plain": [
       "['my',\n",
       " 'parents',\n",
       " 'taught',\n",
       " 'me',\n",
       " 'when',\n",
       " 'you',\n",
       " 'don',\n",
       " 't',\n",
       " 'have',\n",
       " 'something',\n",
       " 'nice',\n",
       " 'to',\n",
       " 'say',\n",
       " 'then',\n",
       " 'don',\n",
       " 't',\n",
       " 'say',\n",
       " 'anything',\n",
       " 'at',\n",
       " 'all',\n",
       " 'n',\n",
       " 'nyelp',\n",
       " 'has',\n",
       " 'taught',\n",
       " 'me',\n",
       " 'when',\n",
       " 'you',\n",
       " 'don',\n",
       " 't',\n",
       " 'have',\n",
       " 'something',\n",
       " 'nice',\n",
       " 'to',\n",
       " 'say',\n",
       " 'tell',\n",
       " 'it',\n",
       " 'like',\n",
       " 'it',\n",
       " 'is',\n",
       " 'n',\n",
       " 'nsorry',\n",
       " 'mom',\n",
       " 'and',\n",
       " 'dad',\n",
       " 'yelp',\n",
       " 'ftw',\n",
       " 'n',\n",
       " 'ni',\n",
       " 'like',\n",
       " 'my',\n",
       " 'restaurants',\n",
       " 'how',\n",
       " 'i',\n",
       " 'like',\n",
       " 'my',\n",
       " 'style',\n",
       " 'un',\n",
       " 'cramped',\n",
       " 'unfortunately',\n",
       " 'this',\n",
       " 'place',\n",
       " 'is',\n",
       " 'packed',\n",
       " 'full',\n",
       " 'with',\n",
       " 'wall',\n",
       " 'to',\n",
       " 'wall',\n",
       " 'tables',\n",
       " 'and',\n",
       " 'chairs',\n",
       " 'leaving',\n",
       " 'about',\n",
       " 'inches',\n",
       " 'in',\n",
       " 'between',\n",
       " 'you',\n",
       " 'and',\n",
       " 'the',\n",
       " 'guy',\n",
       " 'at',\n",
       " 'the',\n",
       " 'table',\n",
       " 'next',\n",
       " 'to',\n",
       " 'you',\n",
       " 'don',\n",
       " 't',\n",
       " 'plan',\n",
       " 'to',\n",
       " 'come',\n",
       " 'here',\n",
       " 'during',\n",
       " 'the',\n",
       " 'lunch',\n",
       " 'rush',\n",
       " 'with',\n",
       " 'a',\n",
       " 'big',\n",
       " 'group',\n",
       " 'you',\n",
       " 're',\n",
       " 'lucky',\n",
       " 'if',\n",
       " 'you',\n",
       " 'can',\n",
       " 'fit',\n",
       " 'one',\n",
       " 'or',\n",
       " 'two',\n",
       " 'people',\n",
       " 'through',\n",
       " 'the',\n",
       " 'door',\n",
       " 'the',\n",
       " 'parking',\n",
       " 'isn',\n",
       " 't',\n",
       " 'that',\n",
       " 'appealing',\n",
       " 'either',\n",
       " 'you',\n",
       " 'are',\n",
       " 'practically',\n",
       " 'parked',\n",
       " 'in',\n",
       " 'the',\n",
       " 'middle',\n",
       " 'of',\n",
       " 'th',\n",
       " 'street',\n",
       " 'traffic',\n",
       " 'n',\n",
       " 'nla',\n",
       " 'condesa',\n",
       " 'makes',\n",
       " 'a',\n",
       " 'pretty',\n",
       " 'good',\n",
       " 'taco',\n",
       " 'and',\n",
       " 'their',\n",
       " 'salsa',\n",
       " 'ain',\n",
       " 't',\n",
       " 'bad',\n",
       " 'either',\n",
       " 'to',\n",
       " 'their',\n",
       " 'benefit',\n",
       " 'they',\n",
       " 'do',\n",
       " 'have',\n",
       " 'some',\n",
       " 'fairly',\n",
       " 'unique',\n",
       " 'salsa',\n",
       " 's',\n",
       " 'to',\n",
       " 'choose',\n",
       " 'from',\n",
       " 'such',\n",
       " 'as',\n",
       " 'strawberry',\n",
       " 'peanut',\n",
       " 'and',\n",
       " 'pecan',\n",
       " 'but',\n",
       " 'in',\n",
       " 'my',\n",
       " 'opinion',\n",
       " 'unique',\n",
       " 'doesn',\n",
       " 't',\n",
       " 'necessarily',\n",
       " 'awesome',\n",
       " 'any',\n",
       " 'of',\n",
       " 'their',\n",
       " 'tacos',\n",
       " 'will',\n",
       " 'do',\n",
       " 'you',\n",
       " 'right',\n",
       " 'but',\n",
       " 'my',\n",
       " 'favorite',\n",
       " 'is',\n",
       " 'their',\n",
       " 'pork',\n",
       " 'n',\n",
       " 'nin',\n",
       " 'my',\n",
       " 'opinion',\n",
       " 'and',\n",
       " 'lets',\n",
       " 'face',\n",
       " 'it',\n",
       " 'if',\n",
       " 'you',\n",
       " 're',\n",
       " 'reading',\n",
       " 'my',\n",
       " 'review',\n",
       " 'that',\n",
       " 's',\n",
       " 'exactly',\n",
       " 'what',\n",
       " 'you',\n",
       " 're',\n",
       " 'looking',\n",
       " 'for',\n",
       " 'right',\n",
       " 'la',\n",
       " 'condesa',\n",
       " 'over',\n",
       " 'stated',\n",
       " 'when',\n",
       " 'they',\n",
       " 'went',\n",
       " 'with',\n",
       " 'gourmet',\n",
       " 'in',\n",
       " 'the',\n",
       " 'name',\n",
       " 'sure',\n",
       " 'everybody',\n",
       " 'likes',\n",
       " 'their',\n",
       " 'taco',\n",
       " 's',\n",
       " 'but',\n",
       " 'who',\n",
       " 'wants',\n",
       " 'to',\n",
       " 'pay',\n",
       " 'for',\n",
       " 'two',\n",
       " 'tacos',\n",
       " 'and',\n",
       " 'leave',\n",
       " 'feeling',\n",
       " 'like',\n",
       " 'they',\n",
       " 'were',\n",
       " 'packed',\n",
       " 'in',\n",
       " 'like',\n",
       " 'sardines',\n",
       " 'in',\n",
       " 'the',\n",
       " 'middle',\n",
       " 'of',\n",
       " 'a',\n",
       " 'seedy',\n",
       " 'neighborhood',\n",
       " 'if',\n",
       " 'it',\n",
       " 'isn',\n",
       " 't',\n",
       " 'obvious',\n",
       " 'yet',\n",
       " 'i',\n",
       " 'don',\n",
       " 't',\n",
       " 'plan',\n",
       " 'on',\n",
       " 'coming',\n",
       " 'back',\n",
       " 'soon',\n",
       " 'i',\n",
       " 'can',\n",
       " 'take',\n",
       " 'or',\n",
       " 'leave',\n",
       " 'their',\n",
       " 'salsas',\n",
       " 'and',\n",
       " 'tacos',\n",
       " 'and',\n",
       " 'wouldn',\n",
       " 't',\n",
       " 'be',\n",
       " 'bothered',\n",
       " 'either',\n",
       " 'way',\n",
       " 'n',\n",
       " 'nhappy',\n",
       " 'yelping',\n",
       " 'phoenix',\n",
       " 'hope',\n",
       " 'you',\n",
       " 'find',\n",
       " 'that',\n",
       " 'hidden',\n",
       " 'taco',\n",
       " 'gem',\n",
       " 'you',\n",
       " 've',\n",
       " 'always',\n",
       " 'been',\n",
       " 'searching',\n",
       " 'for']"
      ]
     },
     "execution_count": 49,
     "metadata": {},
     "output_type": "execute_result"
    }
   ],
   "source": [
    "words"
   ]
  },
  {
   "cell_type": "code",
   "execution_count": 51,
   "metadata": {},
   "outputs": [],
   "source": [
    "import nltk"
   ]
  },
  {
   "cell_type": "code",
   "execution_count": 53,
   "metadata": {},
   "outputs": [],
   "source": [
    "#nltk.download()  # Download text data sets, including stop words"
   ]
  },
  {
   "cell_type": "code",
   "execution_count": 54,
   "metadata": {},
   "outputs": [
    {
     "name": "stdout",
     "output_type": "stream",
     "text": [
      "[u'i', u'me', u'my', u'myself', u'we', u'our', u'ours', u'ourselves', u'you', u'your', u'yours', u'yourself', u'yourselves', u'he', u'him', u'his', u'himself', u'she', u'her', u'hers', u'herself', u'it', u'its', u'itself', u'they', u'them', u'their', u'theirs', u'themselves', u'what', u'which', u'who', u'whom', u'this', u'that', u'these', u'those', u'am', u'is', u'are', u'was', u'were', u'be', u'been', u'being', u'have', u'has', u'had', u'having', u'do', u'does', u'did', u'doing', u'a', u'an', u'the', u'and', u'but', u'if', u'or', u'because', u'as', u'until', u'while', u'of', u'at', u'by', u'for', u'with', u'about', u'against', u'between', u'into', u'through', u'during', u'before', u'after', u'above', u'below', u'to', u'from', u'up', u'down', u'in', u'out', u'on', u'off', u'over', u'under', u'again', u'further', u'then', u'once', u'here', u'there', u'when', u'where', u'why', u'how', u'all', u'any', u'both', u'each', u'few', u'more', u'most', u'other', u'some', u'such', u'no', u'nor', u'not', u'only', u'own', u'same', u'so', u'than', u'too', u'very', u's', u't', u'can', u'will', u'just', u'don', u'should', u'now', u'd', u'll', u'm', u'o', u're', u've', u'y', u'ain', u'aren', u'couldn', u'didn', u'doesn', u'hadn', u'hasn', u'haven', u'isn', u'ma', u'mightn', u'mustn', u'needn', u'shan', u'shouldn', u'wasn', u'weren', u'won', u'wouldn']\n"
     ]
    }
   ],
   "source": [
    "from nltk.corpus import stopwords # Import the stop word list\n",
    "print stopwords.words(\"english\") "
   ]
  },
  {
   "cell_type": "code",
   "execution_count": 56,
   "metadata": {},
   "outputs": [
    {
     "name": "stdout",
     "output_type": "stream",
     "text": [
      "['parents', 'taught', 'something', 'nice', 'say', 'say', 'anything', 'n', 'nyelp', 'taught', 'something', 'nice', 'say', 'tell', 'like', 'n', 'nsorry', 'mom', 'dad', 'yelp', 'ftw', 'n', 'ni', 'like', 'restaurants', 'like', 'style', 'un', 'cramped', 'unfortunately', 'place', 'packed', 'full', 'wall', 'wall', 'tables', 'chairs', 'leaving', 'inches', 'guy', 'table', 'next', 'plan', 'come', 'lunch', 'rush', 'big', 'group', 'lucky', 'fit', 'one', 'two', 'people', 'door', 'parking', 'appealing', 'either', 'practically', 'parked', 'middle', 'th', 'street', 'traffic', 'n', 'nla', 'condesa', 'makes', 'pretty', 'good', 'taco', 'salsa', 'bad', 'either', 'benefit', 'fairly', 'unique', 'salsa', 'choose', 'strawberry', 'peanut', 'pecan', 'opinion', 'unique', 'necessarily', 'awesome', 'tacos', 'right', 'favorite', 'pork', 'n', 'nin', 'opinion', 'lets', 'face', 'reading', 'review', 'exactly', 'looking', 'right', 'la', 'condesa', 'stated', 'went', 'gourmet', 'name', 'sure', 'everybody', 'likes', 'taco', 'wants', 'pay', 'two', 'tacos', 'leave', 'feeling', 'like', 'packed', 'like', 'sardines', 'middle', 'seedy', 'neighborhood', 'obvious', 'yet', 'plan', 'coming', 'back', 'soon', 'take', 'leave', 'salsas', 'tacos', 'bothered', 'either', 'way', 'n', 'nhappy', 'yelping', 'phoenix', 'hope', 'find', 'hidden', 'taco', 'gem', 'always', 'searching']\n"
     ]
    }
   ],
   "source": [
    "# Remove stop words from \"words\"\n",
    "words = [w for w in words if not w in stopwords.words(\"english\")]\n",
    "print words"
   ]
  },
  {
   "cell_type": "code",
   "execution_count": 57,
   "metadata": {},
   "outputs": [],
   "source": [
    "def review_to_words( raw_review ):\n",
    "    # Function to convert a raw review to a string of words\n",
    "    # The input is a single string (a raw movie review), and \n",
    "    # the output is a single string (a preprocessed movie review)\n",
    "    #\n",
    "    # 1. Remove HTML\n",
    "    review_text = BeautifulSoup(raw_review).get_text() \n",
    "    #\n",
    "    # 2. Remove non-letters        \n",
    "    letters_only = re.sub(\"[^a-zA-Z]\", \" \", review_text) \n",
    "    #\n",
    "    # 3. Convert to lower case, split into individual words\n",
    "    words = letters_only.lower().split()                             \n",
    "    #\n",
    "    # 4. In Python, searching a set is much faster than searching\n",
    "    #   a list, so convert the stop words to a set\n",
    "    stops = set(stopwords.words(\"english\"))                  \n",
    "    # \n",
    "    # 5. Remove stop words\n",
    "    meaningful_words = [w for w in words if not w in stops]   \n",
    "    #\n",
    "    # 6. Join the words back into one string separated by space, \n",
    "    # and return the result.\n",
    "    return( \" \".join( meaningful_words ))  "
   ]
  },
  {
   "cell_type": "code",
   "execution_count": 58,
   "metadata": {},
   "outputs": [
    {
     "data": {
      "text/plain": [
       "u'parents taught something nice say say anything n nyelp taught something nice say tell like n nsorry mom dad yelp ftw n ni like restaurants like style un cramped unfortunately place packed full wall wall tables chairs leaving inches guy table next plan come lunch rush big group lucky fit one two people door parking appealing either practically parked middle th street traffic n nla condesa makes pretty good taco salsa bad either benefit fairly unique salsa choose strawberry peanut pecan opinion unique necessarily awesome tacos right favorite pork n nin opinion lets face reading review exactly looking right la condesa stated went gourmet name sure everybody likes taco wants pay two tacos leave feeling like packed like sardines middle seedy neighborhood obvious yet plan coming back soon take leave salsas tacos bothered either way n nhappy yelping phoenix hope find hidden taco gem always searching'"
      ]
     },
     "execution_count": 58,
     "metadata": {},
     "output_type": "execute_result"
    }
   ],
   "source": [
    "review_to_words(train[\"text\"][0])"
   ]
  },
  {
   "cell_type": "code",
   "execution_count": 60,
   "metadata": {},
   "outputs": [],
   "source": [
    " # Get the number of reviews based on the dataframe column size\n",
    "num_reviews = train[\"text\"].size"
   ]
  },
  {
   "cell_type": "code",
   "execution_count": 64,
   "metadata": {},
   "outputs": [
    {
     "name": "stdout",
     "output_type": "stream",
     "text": [
      "Cleaning and parsing the training set movie reviews...\n",
      "\n"
     ]
    }
   ],
   "source": [
    "print \"Cleaning and parsing the training set movie reviews...\\n\"\n",
    "clean_train_reviews = []\n",
    "for i in xrange( 0, num_reviews ):\n",
    "    # If the index is evenly divisible by 1000, print a message\n",
    "    if( (i+1)%1000 == 0 ):\n",
    "        print \"Review %d of %d\\n\" % ( i+1, num_reviews )                                                                    \n",
    "    clean_train_reviews.append( review_to_words( train[\"text\"][i] ))"
   ]
  }
 ],
 "metadata": {
  "kernelspec": {
   "display_name": "Python 2",
   "language": "python",
   "name": "python2"
  },
  "language_info": {
   "codemirror_mode": {
    "name": "ipython",
    "version": 2
   },
   "file_extension": ".py",
   "mimetype": "text/x-python",
   "name": "python",
   "nbconvert_exporter": "python",
   "pygments_lexer": "ipython2",
   "version": "2.7.14"
  }
 },
 "nbformat": 4,
 "nbformat_minor": 2
}
